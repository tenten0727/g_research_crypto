{
 "cells": [
  {
   "cell_type": "code",
   "execution_count": 2,
   "metadata": {},
   "outputs": [
    {
     "data": {
      "text/html": [
       "<div>\n",
       "<style scoped>\n",
       "    .dataframe tbody tr th:only-of-type {\n",
       "        vertical-align: middle;\n",
       "    }\n",
       "\n",
       "    .dataframe tbody tr th {\n",
       "        vertical-align: top;\n",
       "    }\n",
       "\n",
       "    .dataframe thead th {\n",
       "        text-align: right;\n",
       "    }\n",
       "</style>\n",
       "<table border=\"1\" class=\"dataframe\">\n",
       "  <thead>\n",
       "    <tr style=\"text-align: right;\">\n",
       "      <th></th>\n",
       "      <th>timestamp</th>\n",
       "      <th>Asset_ID</th>\n",
       "      <th>Count</th>\n",
       "      <th>Open</th>\n",
       "      <th>High</th>\n",
       "      <th>Low</th>\n",
       "      <th>Close</th>\n",
       "      <th>Volume</th>\n",
       "      <th>VWAP</th>\n",
       "      <th>Target</th>\n",
       "    </tr>\n",
       "  </thead>\n",
       "  <tbody>\n",
       "    <tr>\n",
       "      <th>0</th>\n",
       "      <td>1514764860</td>\n",
       "      <td>2</td>\n",
       "      <td>40.0</td>\n",
       "      <td>2376.5800</td>\n",
       "      <td>2399.5000</td>\n",
       "      <td>2357.1400</td>\n",
       "      <td>2374.5900</td>\n",
       "      <td>19.233005</td>\n",
       "      <td>2373.116392</td>\n",
       "      <td>-0.004218</td>\n",
       "    </tr>\n",
       "    <tr>\n",
       "      <th>1</th>\n",
       "      <td>1514764860</td>\n",
       "      <td>0</td>\n",
       "      <td>5.0</td>\n",
       "      <td>8.5300</td>\n",
       "      <td>8.5300</td>\n",
       "      <td>8.5300</td>\n",
       "      <td>8.5300</td>\n",
       "      <td>78.380000</td>\n",
       "      <td>8.530000</td>\n",
       "      <td>-0.014399</td>\n",
       "    </tr>\n",
       "    <tr>\n",
       "      <th>2</th>\n",
       "      <td>1514764860</td>\n",
       "      <td>1</td>\n",
       "      <td>229.0</td>\n",
       "      <td>13835.1940</td>\n",
       "      <td>14013.8000</td>\n",
       "      <td>13666.1100</td>\n",
       "      <td>13850.1760</td>\n",
       "      <td>31.550062</td>\n",
       "      <td>13827.062093</td>\n",
       "      <td>-0.014643</td>\n",
       "    </tr>\n",
       "    <tr>\n",
       "      <th>3</th>\n",
       "      <td>1514764860</td>\n",
       "      <td>5</td>\n",
       "      <td>32.0</td>\n",
       "      <td>7.6596</td>\n",
       "      <td>7.6596</td>\n",
       "      <td>7.6567</td>\n",
       "      <td>7.6576</td>\n",
       "      <td>6626.713370</td>\n",
       "      <td>7.657713</td>\n",
       "      <td>-0.013922</td>\n",
       "    </tr>\n",
       "    <tr>\n",
       "      <th>4</th>\n",
       "      <td>1514764860</td>\n",
       "      <td>7</td>\n",
       "      <td>5.0</td>\n",
       "      <td>25.9200</td>\n",
       "      <td>25.9200</td>\n",
       "      <td>25.8740</td>\n",
       "      <td>25.8770</td>\n",
       "      <td>121.087310</td>\n",
       "      <td>25.891363</td>\n",
       "      <td>-0.008264</td>\n",
       "    </tr>\n",
       "  </tbody>\n",
       "</table>\n",
       "</div>"
      ],
      "text/plain": [
       "    timestamp  Asset_ID  Count        Open        High         Low  \\\n",
       "0  1514764860         2   40.0   2376.5800   2399.5000   2357.1400   \n",
       "1  1514764860         0    5.0      8.5300      8.5300      8.5300   \n",
       "2  1514764860         1  229.0  13835.1940  14013.8000  13666.1100   \n",
       "3  1514764860         5   32.0      7.6596      7.6596      7.6567   \n",
       "4  1514764860         7    5.0     25.9200     25.9200     25.8740   \n",
       "\n",
       "        Close       Volume          VWAP    Target  \n",
       "0   2374.5900    19.233005   2373.116392 -0.004218  \n",
       "1      8.5300    78.380000      8.530000 -0.014399  \n",
       "2  13850.1760    31.550062  13827.062093 -0.014643  \n",
       "3      7.6576  6626.713370      7.657713 -0.013922  \n",
       "4     25.8770   121.087310     25.891363 -0.008264  "
      ]
     },
     "execution_count": 2,
     "metadata": {},
     "output_type": "execute_result"
    }
   ],
   "source": [
    "import pandas as pd \n",
    "data_path = '../input/'\n",
    "train = pd.read_pickle(data_path+'/train.pkl')\n",
    "train.head()"
   ]
  },
  {
   "cell_type": "code",
   "execution_count": 3,
   "metadata": {},
   "outputs": [
    {
     "data": {
      "text/plain": [
       "(24236806, 10)"
      ]
     },
     "execution_count": 3,
     "metadata": {},
     "output_type": "execute_result"
    }
   ],
   "source": [
    "train.shape"
   ]
  },
  {
   "cell_type": "code",
   "execution_count": 4,
   "metadata": {},
   "outputs": [
    {
     "data": {
      "text/plain": [
       "(21473088, 10)"
      ]
     },
     "execution_count": 4,
     "metadata": {},
     "output_type": "execute_result"
    }
   ],
   "source": [
    "train['datetime'] = pd.to_datetime(train['timestamp'], unit='s')\n",
    "\n",
    "df_train = train[train['datetime'] < '2021-06-13 00:00:00']\n",
    "df_train = df_train.dropna(how=\"any\").reset_index(drop=True)\n",
    "\n",
    "y_train = df_train.Target\n",
    "df_train.drop('Target', axis=1, inplace=True)\n",
    "df_train.shape"
   ]
  },
  {
   "cell_type": "code",
   "execution_count": 5,
   "metadata": {},
   "outputs": [
    {
     "data": {
      "text/html": [
       "<div>\n",
       "<style scoped>\n",
       "    .dataframe tbody tr th:only-of-type {\n",
       "        vertical-align: middle;\n",
       "    }\n",
       "\n",
       "    .dataframe tbody tr th {\n",
       "        vertical-align: top;\n",
       "    }\n",
       "\n",
       "    .dataframe thead th {\n",
       "        text-align: right;\n",
       "    }\n",
       "</style>\n",
       "<table border=\"1\" class=\"dataframe\">\n",
       "  <thead>\n",
       "    <tr style=\"text-align: right;\">\n",
       "      <th></th>\n",
       "      <th>timestamp</th>\n",
       "      <th>Asset_ID</th>\n",
       "      <th>Count</th>\n",
       "      <th>Open</th>\n",
       "      <th>High</th>\n",
       "      <th>Low</th>\n",
       "      <th>Close</th>\n",
       "      <th>Volume</th>\n",
       "      <th>VWAP</th>\n",
       "      <th>datetime</th>\n",
       "    </tr>\n",
       "  </thead>\n",
       "  <tbody>\n",
       "    <tr>\n",
       "      <th>0</th>\n",
       "      <td>1514764860</td>\n",
       "      <td>2</td>\n",
       "      <td>40.0</td>\n",
       "      <td>2376.5800</td>\n",
       "      <td>2399.5000</td>\n",
       "      <td>2357.1400</td>\n",
       "      <td>2374.5900</td>\n",
       "      <td>19.233005</td>\n",
       "      <td>2373.116392</td>\n",
       "      <td>2018-01-01 00:01:00</td>\n",
       "    </tr>\n",
       "    <tr>\n",
       "      <th>1</th>\n",
       "      <td>1514764860</td>\n",
       "      <td>0</td>\n",
       "      <td>5.0</td>\n",
       "      <td>8.5300</td>\n",
       "      <td>8.5300</td>\n",
       "      <td>8.5300</td>\n",
       "      <td>8.5300</td>\n",
       "      <td>78.380000</td>\n",
       "      <td>8.530000</td>\n",
       "      <td>2018-01-01 00:01:00</td>\n",
       "    </tr>\n",
       "    <tr>\n",
       "      <th>2</th>\n",
       "      <td>1514764860</td>\n",
       "      <td>1</td>\n",
       "      <td>229.0</td>\n",
       "      <td>13835.1940</td>\n",
       "      <td>14013.8000</td>\n",
       "      <td>13666.1100</td>\n",
       "      <td>13850.1760</td>\n",
       "      <td>31.550062</td>\n",
       "      <td>13827.062093</td>\n",
       "      <td>2018-01-01 00:01:00</td>\n",
       "    </tr>\n",
       "    <tr>\n",
       "      <th>3</th>\n",
       "      <td>1514764860</td>\n",
       "      <td>5</td>\n",
       "      <td>32.0</td>\n",
       "      <td>7.6596</td>\n",
       "      <td>7.6596</td>\n",
       "      <td>7.6567</td>\n",
       "      <td>7.6576</td>\n",
       "      <td>6626.713370</td>\n",
       "      <td>7.657713</td>\n",
       "      <td>2018-01-01 00:01:00</td>\n",
       "    </tr>\n",
       "    <tr>\n",
       "      <th>4</th>\n",
       "      <td>1514764860</td>\n",
       "      <td>7</td>\n",
       "      <td>5.0</td>\n",
       "      <td>25.9200</td>\n",
       "      <td>25.9200</td>\n",
       "      <td>25.8740</td>\n",
       "      <td>25.8770</td>\n",
       "      <td>121.087310</td>\n",
       "      <td>25.891363</td>\n",
       "      <td>2018-01-01 00:01:00</td>\n",
       "    </tr>\n",
       "  </tbody>\n",
       "</table>\n",
       "</div>"
      ],
      "text/plain": [
       "    timestamp  Asset_ID  Count        Open        High         Low  \\\n",
       "0  1514764860         2   40.0   2376.5800   2399.5000   2357.1400   \n",
       "1  1514764860         0    5.0      8.5300      8.5300      8.5300   \n",
       "2  1514764860         1  229.0  13835.1940  14013.8000  13666.1100   \n",
       "3  1514764860         5   32.0      7.6596      7.6596      7.6567   \n",
       "4  1514764860         7    5.0     25.9200     25.9200     25.8740   \n",
       "\n",
       "        Close       Volume          VWAP            datetime  \n",
       "0   2374.5900    19.233005   2373.116392 2018-01-01 00:01:00  \n",
       "1      8.5300    78.380000      8.530000 2018-01-01 00:01:00  \n",
       "2  13850.1760    31.550062  13827.062093 2018-01-01 00:01:00  \n",
       "3      7.6576  6626.713370      7.657713 2018-01-01 00:01:00  \n",
       "4     25.8770   121.087310     25.891363 2018-01-01 00:01:00  "
      ]
     },
     "execution_count": 5,
     "metadata": {},
     "output_type": "execute_result"
    }
   ],
   "source": [
    "df_train.head()"
   ]
  },
  {
   "cell_type": "code",
   "execution_count": 6,
   "metadata": {},
   "outputs": [
    {
     "data": {
      "text/plain": [
       "(21473088,)"
      ]
     },
     "execution_count": 6,
     "metadata": {},
     "output_type": "execute_result"
    }
   ],
   "source": [
    "y_train.shape"
   ]
  },
  {
   "cell_type": "code",
   "execution_count": 7,
   "metadata": {},
   "outputs": [
    {
     "data": {
      "text/plain": [
       "<AxesSubplot:title={'center':'PurgedGroupTimeSeriesSplit'}, xlabel='Sample index', ylabel='CV iteration'>"
      ]
     },
     "execution_count": 7,
     "metadata": {},
     "output_type": "execute_result"
    },
    {
     "data": {
      "image/png": "[encoded data removed]",
      "text/plain": [
       "<Figure size 864x432 with 1 Axes>"
      ]
     },
     "metadata": {
      "needs_background": "light"
     },
     "output_type": "display_data"
    }
   ],
   "source": [
    "import sys\n",
    "sys.path.append('../src')\n",
    "from utils import PurgedGroupTimeSeriesSplit, plot_cv_indices\n",
    "import matplotlib.pyplot as plt\n",
    "\n",
    "fig, ax = plt.subplots(figsize = (12, 6))\n",
    "groups = pd.factorize(df_train['datetime'].dt.day.astype(str) + '_' + df_train['datetime'].dt.month.astype(str) + '_' + df_train['datetime'].dt.year.astype(str))[0]\n",
    "cv = PurgedGroupTimeSeriesSplit(n_splits = 5, group_gap = 100)\n",
    "\n",
    "plot_cv_indices(cv, df_train, y_train, groups, ax, 5, lw=20)"
   ]
  },
  {
   "cell_type": "code",
   "execution_count": 8,
   "metadata": {},
   "outputs": [
    {
     "data": {
      "text/plain": [
       "<AxesSubplot:title={'center':'PurgedGroupTimeSeriesSplit'}, xlabel='Sample index', ylabel='CV iteration'>"
      ]
     },
     "execution_count": 8,
     "metadata": {},
     "output_type": "execute_result"
    },
    {
     "data": {
      "image/png": "[encoded data removed]",
      "text/plain": [
       "<Figure size 864x432 with 1 Axes>"
      ]
     },
     "metadata": {
      "needs_background": "light"
     },
     "output_type": "display_data"
    }
   ],
   "source": [
    "fig, ax = plt.subplots(figsize = (12, 6))\n",
    "\n",
    "cv = PurgedGroupTimeSeriesSplit(n_splits = 5, group_gap = 50, max_train_group_size=500, max_test_group_size=200)\n",
    "\n",
    "plot_cv_indices(cv, df_train, y_train, groups, ax, 5, lw=20)"
   ]
  },
  {
   "cell_type": "code",
   "execution_count": 9,
   "metadata": {},
   "outputs": [
    {
     "data": {
      "text/plain": [
       "<AxesSubplot:title={'center':'PurgedGroupTimeSeriesSplit'}, xlabel='Sample index', ylabel='CV iteration'>"
      ]
     },
     "execution_count": 9,
     "metadata": {},
     "output_type": "execute_result"
    },
    {
     "data": {
      "image/png": "[encoded data removed]",
      "text/plain": [
       "<Figure size 864x432 with 1 Axes>"
      ]
     },
     "metadata": {
      "needs_background": "light"
     },
     "output_type": "display_data"
    }
   ],
   "source": [
    "fig, ax = plt.subplots(figsize = (12, 6))\n",
    "\n",
    "cv = PurgedGroupTimeSeriesSplit(n_splits = 5, group_gap = 100, max_train_group_size=350, max_test_group_size=200)\n",
    "\n",
    "plot_cv_indices(cv, df_train, y_train, groups, ax, 5, lw=20)"
   ]
  },
  {
   "cell_type": "code",
   "execution_count": 10,
   "metadata": {},
   "outputs": [
    {
     "data": {
      "text/plain": [
       "<AxesSubplot:title={'center':'PurgedGroupTimeSeriesSplit'}, xlabel='Sample index', ylabel='CV iteration'>"
      ]
     },
     "execution_count": 10,
     "metadata": {},
     "output_type": "execute_result"
    },
    {
     "data": {
      "image/png": "[encoded data removed]",
      "text/plain": [
       "<Figure size 864x432 with 1 Axes>"
      ]
     },
     "metadata": {
      "needs_background": "light"
     },
     "output_type": "display_data"
    }
   ],
   "source": [
    "fig, ax = plt.subplots(figsize = (12, 6))\n",
    "\n",
    "cv = PurgedGroupTimeSeriesSplit(n_splits = 5, group_gap = 100, max_train_group_size=500, max_test_group_size=100)\n",
    "\n",
    "plot_cv_indices(cv, df_train, y_train, groups, ax, 5, lw=20)"
   ]
  }
 ],
 "metadata": {
  "interpreter": {
   "hash": "efb9160ded6f8104b03d06f95cfe4dec2ca7e24b5e9074d8f81a2ef13847cfc6"
  },
  "kernelspec": {
   "display_name": "Python 3.7.10 64-bit ('g_research_crypto': pyenv)",
   "language": "python",
   "name": "python3"
  },
  "language_info": {
   "codemirror_mode": {
    "name": "ipython",
    "version": 3
   },
   "file_extension": ".py",
   "mimetype": "text/x-python",
   "name": "python",
   "nbconvert_exporter": "python",
   "pygments_lexer": "ipython3",
   "version": "3.7.10"
  },
  "orig_nbformat": 4
 },
 "nbformat": 4,
 "nbformat_minor": 2
}
