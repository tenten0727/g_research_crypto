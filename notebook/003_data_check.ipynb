{
 "cells": [
  {
   "cell_type": "code",
   "execution_count": 2,
   "metadata": {},
   "outputs": [],
   "source": [
    "import pandas as pd \n",
    "data_path = '../input/'"
   ]
  },
  {
   "cell_type": "code",
   "execution_count": 3,
   "metadata": {},
   "outputs": [],
   "source": [
    "train = pd.read_pickle(data_path+'/train.pkl')"
   ]
  },
  {
   "cell_type": "code",
   "execution_count": 4,
   "metadata": {},
   "outputs": [
    {
     "data": {
      "text/plain": [
       "(24236806, 10)"
      ]
     },
     "execution_count": 4,
     "metadata": {},
     "output_type": "execute_result"
    }
   ],
   "source": [
    "train.shape"
   ]
  },
  {
   "cell_type": "code",
   "execution_count": 5,
   "metadata": {},
   "outputs": [
    {
     "data": {
      "text/plain": [
       "0                   NaN\n",
       "1                   NaN\n",
       "2                   NaN\n",
       "3                   NaN\n",
       "4                   NaN\n",
       "               ...     \n",
       "24236801     156.098857\n",
       "24236802    2409.222800\n",
       "24236803       0.090970\n",
       "24236804       0.280169\n",
       "24236805     231.680000\n",
       "Name: Close, Length: 24236806, dtype: float64"
      ]
     },
     "execution_count": 5,
     "metadata": {},
     "output_type": "execute_result"
    }
   ],
   "source": [
    "train.groupby('Asset_ID')['Close'].shift(15)"
   ]
  },
  {
   "cell_type": "code",
   "execution_count": 6,
   "metadata": {},
   "outputs": [],
   "source": [
    "s_train = pd.read_csv(data_path+'g-research-crypto-forecasting/supplemental_train.csv')\n",
    "s_train.to_pickle(data_path+'supplemental_train.pkl')"
   ]
  },
  {
   "cell_type": "code",
   "execution_count": 7,
   "metadata": {},
   "outputs": [
    {
     "data": {
      "text/html": [
       "<div>\n",
       "<style scoped>\n",
       "    .dataframe tbody tr th:only-of-type {\n",
       "        vertical-align: middle;\n",
       "    }\n",
       "\n",
       "    .dataframe tbody tr th {\n",
       "        vertical-align: top;\n",
       "    }\n",
       "\n",
       "    .dataframe thead th {\n",
       "        text-align: right;\n",
       "    }\n",
       "</style>\n",
       "<table border=\"1\" class=\"dataframe\">\n",
       "  <thead>\n",
       "    <tr style=\"text-align: right;\">\n",
       "      <th></th>\n",
       "      <th>timestamp</th>\n",
       "      <th>Asset_ID</th>\n",
       "      <th>Count</th>\n",
       "      <th>Open</th>\n",
       "      <th>High</th>\n",
       "      <th>Low</th>\n",
       "      <th>Close</th>\n",
       "      <th>Volume</th>\n",
       "      <th>VWAP</th>\n",
       "      <th>Target</th>\n",
       "    </tr>\n",
       "  </thead>\n",
       "  <tbody>\n",
       "    <tr>\n",
       "      <th>0</th>\n",
       "      <td>1623542400</td>\n",
       "      <td>3</td>\n",
       "      <td>1201.0</td>\n",
       "      <td>1.478556</td>\n",
       "      <td>1.486030</td>\n",
       "      <td>1.478000</td>\n",
       "      <td>1.483681</td>\n",
       "      <td>6.547996e+05</td>\n",
       "      <td>1.481439</td>\n",
       "      <td>-0.002594</td>\n",
       "    </tr>\n",
       "    <tr>\n",
       "      <th>1</th>\n",
       "      <td>1623542400</td>\n",
       "      <td>2</td>\n",
       "      <td>1020.0</td>\n",
       "      <td>580.306667</td>\n",
       "      <td>583.890000</td>\n",
       "      <td>579.910000</td>\n",
       "      <td>582.276667</td>\n",
       "      <td>1.227988e+03</td>\n",
       "      <td>581.697038</td>\n",
       "      <td>-0.009143</td>\n",
       "    </tr>\n",
       "    <tr>\n",
       "      <th>2</th>\n",
       "      <td>1623542400</td>\n",
       "      <td>0</td>\n",
       "      <td>626.0</td>\n",
       "      <td>343.789500</td>\n",
       "      <td>345.108000</td>\n",
       "      <td>343.640000</td>\n",
       "      <td>344.598000</td>\n",
       "      <td>1.718833e+03</td>\n",
       "      <td>344.441729</td>\n",
       "      <td>-0.004525</td>\n",
       "    </tr>\n",
       "    <tr>\n",
       "      <th>3</th>\n",
       "      <td>1623542400</td>\n",
       "      <td>1</td>\n",
       "      <td>2888.0</td>\n",
       "      <td>35554.289632</td>\n",
       "      <td>35652.464650</td>\n",
       "      <td>35502.670000</td>\n",
       "      <td>35602.004286</td>\n",
       "      <td>1.638115e+02</td>\n",
       "      <td>35583.469303</td>\n",
       "      <td>0.003096</td>\n",
       "    </tr>\n",
       "    <tr>\n",
       "      <th>4</th>\n",
       "      <td>1623542400</td>\n",
       "      <td>4</td>\n",
       "      <td>433.0</td>\n",
       "      <td>0.312167</td>\n",
       "      <td>0.312600</td>\n",
       "      <td>0.311920</td>\n",
       "      <td>0.312208</td>\n",
       "      <td>5.855774e+05</td>\n",
       "      <td>0.312154</td>\n",
       "      <td>0.001426</td>\n",
       "    </tr>\n",
       "    <tr>\n",
       "      <th>5</th>\n",
       "      <td>1623542400</td>\n",
       "      <td>5</td>\n",
       "      <td>359.0</td>\n",
       "      <td>4.832550</td>\n",
       "      <td>4.845900</td>\n",
       "      <td>4.822900</td>\n",
       "      <td>4.837583</td>\n",
       "      <td>4.714355e+04</td>\n",
       "      <td>4.836607</td>\n",
       "      <td>-0.000579</td>\n",
       "    </tr>\n",
       "    <tr>\n",
       "      <th>6</th>\n",
       "      <td>1623542400</td>\n",
       "      <td>7</td>\n",
       "      <td>541.0</td>\n",
       "      <td>55.223080</td>\n",
       "      <td>55.494000</td>\n",
       "      <td>55.182000</td>\n",
       "      <td>55.344680</td>\n",
       "      <td>6.625202e+03</td>\n",
       "      <td>55.298816</td>\n",
       "      <td>-0.003998</td>\n",
       "    </tr>\n",
       "    <tr>\n",
       "      <th>7</th>\n",
       "      <td>1623542400</td>\n",
       "      <td>6</td>\n",
       "      <td>2186.0</td>\n",
       "      <td>2371.194286</td>\n",
       "      <td>2379.200000</td>\n",
       "      <td>2369.670000</td>\n",
       "      <td>2374.380714</td>\n",
       "      <td>1.214129e+03</td>\n",
       "      <td>2374.335307</td>\n",
       "      <td>0.002565</td>\n",
       "    </tr>\n",
       "    <tr>\n",
       "      <th>8</th>\n",
       "      <td>1623542400</td>\n",
       "      <td>8</td>\n",
       "      <td>35.0</td>\n",
       "      <td>1.003150</td>\n",
       "      <td>1.019800</td>\n",
       "      <td>0.987300</td>\n",
       "      <td>1.003300</td>\n",
       "      <td>7.061928e+03</td>\n",
       "      <td>1.002936</td>\n",
       "      <td>-0.005097</td>\n",
       "    </tr>\n",
       "    <tr>\n",
       "      <th>9</th>\n",
       "      <td>1623542400</td>\n",
       "      <td>9</td>\n",
       "      <td>560.0</td>\n",
       "      <td>161.933429</td>\n",
       "      <td>162.480000</td>\n",
       "      <td>161.730000</td>\n",
       "      <td>162.214714</td>\n",
       "      <td>1.485009e+03</td>\n",
       "      <td>162.231310</td>\n",
       "      <td>0.000686</td>\n",
       "    </tr>\n",
       "    <tr>\n",
       "      <th>10</th>\n",
       "      <td>1623542400</td>\n",
       "      <td>10</td>\n",
       "      <td>61.0</td>\n",
       "      <td>2939.862750</td>\n",
       "      <td>2952.160000</td>\n",
       "      <td>2936.230000</td>\n",
       "      <td>2947.078025</td>\n",
       "      <td>9.584785e+00</td>\n",
       "      <td>2945.110614</td>\n",
       "      <td>-0.004899</td>\n",
       "    </tr>\n",
       "    <tr>\n",
       "      <th>11</th>\n",
       "      <td>1623542400</td>\n",
       "      <td>13</td>\n",
       "      <td>229.0</td>\n",
       "      <td>0.068132</td>\n",
       "      <td>0.068240</td>\n",
       "      <td>0.068038</td>\n",
       "      <td>0.068158</td>\n",
       "      <td>3.046438e+06</td>\n",
       "      <td>0.068158</td>\n",
       "      <td>-0.003036</td>\n",
       "    </tr>\n",
       "    <tr>\n",
       "      <th>12</th>\n",
       "      <td>1623542400</td>\n",
       "      <td>12</td>\n",
       "      <td>383.0</td>\n",
       "      <td>0.327973</td>\n",
       "      <td>0.329272</td>\n",
       "      <td>0.327650</td>\n",
       "      <td>0.328829</td>\n",
       "      <td>5.364911e+05</td>\n",
       "      <td>0.328582</td>\n",
       "      <td>-0.003314</td>\n",
       "    </tr>\n",
       "    <tr>\n",
       "      <th>13</th>\n",
       "      <td>1623542400</td>\n",
       "      <td>11</td>\n",
       "      <td>123.0</td>\n",
       "      <td>243.137500</td>\n",
       "      <td>243.810000</td>\n",
       "      <td>242.960000</td>\n",
       "      <td>243.532500</td>\n",
       "      <td>3.079589e+02</td>\n",
       "      <td>243.452697</td>\n",
       "      <td>-0.001360</td>\n",
       "    </tr>\n",
       "    <tr>\n",
       "      <th>14</th>\n",
       "      <td>1623542460</td>\n",
       "      <td>3</td>\n",
       "      <td>672.0</td>\n",
       "      <td>1.482410</td>\n",
       "      <td>1.483759</td>\n",
       "      <td>1.479200</td>\n",
       "      <td>1.482043</td>\n",
       "      <td>2.858286e+05</td>\n",
       "      <td>1.481495</td>\n",
       "      <td>-0.003286</td>\n",
       "    </tr>\n",
       "  </tbody>\n",
       "</table>\n",
       "</div>"
      ],
      "text/plain": [
       "     timestamp  Asset_ID   Count          Open          High           Low  \\\n",
       "0   1623542400         3  1201.0      1.478556      1.486030      1.478000   \n",
       "1   1623542400         2  1020.0    580.306667    583.890000    579.910000   \n",
       "2   1623542400         0   626.0    343.789500    345.108000    343.640000   \n",
       "3   1623542400         1  2888.0  35554.289632  35652.464650  35502.670000   \n",
       "4   1623542400         4   433.0      0.312167      0.312600      0.311920   \n",
       "5   1623542400         5   359.0      4.832550      4.845900      4.822900   \n",
       "6   1623542400         7   541.0     55.223080     55.494000     55.182000   \n",
       "7   1623542400         6  2186.0   2371.194286   2379.200000   2369.670000   \n",
       "8   1623542400         8    35.0      1.003150      1.019800      0.987300   \n",
       "9   1623542400         9   560.0    161.933429    162.480000    161.730000   \n",
       "10  1623542400        10    61.0   2939.862750   2952.160000   2936.230000   \n",
       "11  1623542400        13   229.0      0.068132      0.068240      0.068038   \n",
       "12  1623542400        12   383.0      0.327973      0.329272      0.327650   \n",
       "13  1623542400        11   123.0    243.137500    243.810000    242.960000   \n",
       "14  1623542460         3   672.0      1.482410      1.483759      1.479200   \n",
       "\n",
       "           Close        Volume          VWAP    Target  \n",
       "0       1.483681  6.547996e+05      1.481439 -0.002594  \n",
       "1     582.276667  1.227988e+03    581.697038 -0.009143  \n",
       "2     344.598000  1.718833e+03    344.441729 -0.004525  \n",
       "3   35602.004286  1.638115e+02  35583.469303  0.003096  \n",
       "4       0.312208  5.855774e+05      0.312154  0.001426  \n",
       "5       4.837583  4.714355e+04      4.836607 -0.000579  \n",
       "6      55.344680  6.625202e+03     55.298816 -0.003998  \n",
       "7    2374.380714  1.214129e+03   2374.335307  0.002565  \n",
       "8       1.003300  7.061928e+03      1.002936 -0.005097  \n",
       "9     162.214714  1.485009e+03    162.231310  0.000686  \n",
       "10   2947.078025  9.584785e+00   2945.110614 -0.004899  \n",
       "11      0.068158  3.046438e+06      0.068158 -0.003036  \n",
       "12      0.328829  5.364911e+05      0.328582 -0.003314  \n",
       "13    243.532500  3.079589e+02    243.452697 -0.001360  \n",
       "14      1.482043  2.858286e+05      1.481495 -0.003286  "
      ]
     },
     "execution_count": 7,
     "metadata": {},
     "output_type": "execute_result"
    }
   ],
   "source": [
    "s_train.head(15)"
   ]
  },
  {
   "cell_type": "code",
   "execution_count": 8,
   "metadata": {},
   "outputs": [
    {
     "data": {
      "text/plain": [
       "(2015112, 10)"
      ]
     },
     "execution_count": 8,
     "metadata": {},
     "output_type": "execute_result"
    }
   ],
   "source": [
    "s_train.shape"
   ]
  },
  {
   "cell_type": "code",
   "execution_count": 9,
   "metadata": {},
   "outputs": [
    {
     "data": {
      "text/plain": [
       "2015107     156.809571\n",
       "2015108    2426.988343\n",
       "2015109       0.091123\n",
       "2015110       0.281477\n",
       "2015111     231.791100\n",
       "Name: Close, dtype: float64"
      ]
     },
     "execution_count": 9,
     "metadata": {},
     "output_type": "execute_result"
    }
   ],
   "source": [
    "am = s_train.groupby('Asset_ID').Close.transform(lambda x: x.rolling(window=5).mean())\n",
    "am.tail(5)"
   ]
  },
  {
   "cell_type": "code",
   "execution_count": 10,
   "metadata": {},
   "outputs": [
    {
     "data": {
      "text/plain": [
       "0              NaN\n",
       "1              NaN\n",
       "2              NaN\n",
       "3              NaN\n",
       "4              NaN\n",
       "5              NaN\n",
       "6              NaN\n",
       "7              NaN\n",
       "8              NaN\n",
       "9              NaN\n",
       "10             NaN\n",
       "11             NaN\n",
       "12             NaN\n",
       "13             NaN\n",
       "14        1.483681\n",
       "15      582.276667\n",
       "16      344.598000\n",
       "17    35602.004286\n",
       "18        0.312208\n",
       "19        4.837583\n",
       "Name: Close, dtype: float64"
      ]
     },
     "execution_count": 10,
     "metadata": {},
     "output_type": "execute_result"
    }
   ],
   "source": [
    "s_train.groupby('Asset_ID').Close.shift(1).head(20)"
   ]
  },
  {
   "cell_type": "code",
   "execution_count": 11,
   "metadata": {},
   "outputs": [],
   "source": [
    "import numpy as np\n",
    "def _rsiFunc(prices, n=14):\n",
    "    deltas = np.diff(prices)\n",
    "    seed = deltas[:n+1]\n",
    "    up = seed[seed>=0].sum()/n\n",
    "    down = -seed[seed<0].sum()/n\n",
    "    rs = up/down\n",
    "    rsi = np.zeros_like(prices)\n",
    "    rsi[:n] = 100. - 100./(1.+rs)\n",
    "\n",
    "    for i in range(n, len(prices)):\n",
    "        delta = deltas[i-1] # cause the diff is 1 shorter\n",
    "\n",
    "        if delta>0:\n",
    "            upval = delta\n",
    "            downval = 0.\n",
    "        else:\n",
    "            upval = 0.\n",
    "            downval = -delta\n",
    "\n",
    "        up = (up*(n-1) + upval)/n\n",
    "        down = (down*(n-1) + downval)/n\n",
    "\n",
    "        rs = up/down\n",
    "        rsi[i] = 100. - 100./(1.+rs)\n",
    "\n",
    "    return rsi"
   ]
  },
  {
   "cell_type": "code",
   "execution_count": 12,
   "metadata": {},
   "outputs": [
    {
     "data": {
      "text/plain": [
       "0          18.724013\n",
       "1          22.518331\n",
       "2          30.796164\n",
       "3          30.320739\n",
       "4          17.173412\n",
       "             ...    \n",
       "2015107    49.859647\n",
       "2015108    57.611476\n",
       "2015109    58.297421\n",
       "2015110    55.637040\n",
       "2015111    55.028428\n",
       "Name: Close, Length: 2015112, dtype: float64"
      ]
     },
     "execution_count": 12,
     "metadata": {},
     "output_type": "execute_result"
    }
   ],
   "source": [
    "s_train.groupby('Asset_ID').Close.transform(lambda x: _rsiFunc(x.values, 5))"
   ]
  }
 ],
 "metadata": {
  "interpreter": {
   "hash": "efb9160ded6f8104b03d06f95cfe4dec2ca7e24b5e9074d8f81a2ef13847cfc6"
  },
  "kernelspec": {
   "display_name": "Python 3.7.10 64-bit ('g_research_crypto': pyenv)",
   "language": "python",
   "name": "python3"
  },
  "language_info": {
   "codemirror_mode": {
    "name": "ipython",
    "version": 3
   },
   "file_extension": ".py",
   "mimetype": "text/x-python",
   "name": "python",
   "nbconvert_exporter": "python",
   "pygments_lexer": "ipython3",
   "version": "3.7.10"
  },
  "orig_nbformat": 4
 },
 "nbformat": 4,
 "nbformat_minor": 2
}
