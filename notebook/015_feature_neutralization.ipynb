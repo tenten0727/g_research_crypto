{
 "cells": [
  {
   "cell_type": "code",
   "execution_count": 44,
   "metadata": {},
   "outputs": [
    {
     "data": {
      "text/html": [
       "<div>\n",
       "<style scoped>\n",
       "    .dataframe tbody tr th:only-of-type {\n",
       "        vertical-align: middle;\n",
       "    }\n",
       "\n",
       "    .dataframe tbody tr th {\n",
       "        vertical-align: top;\n",
       "    }\n",
       "\n",
       "    .dataframe thead th {\n",
       "        text-align: right;\n",
       "    }\n",
       "</style>\n",
       "<table border=\"1\" class=\"dataframe\">\n",
       "  <thead>\n",
       "    <tr style=\"text-align: right;\">\n",
       "      <th></th>\n",
       "      <th>moving_average_15</th>\n",
       "      <th>moving_std_15</th>\n",
       "      <th>volume_moving_average_15</th>\n",
       "      <th>RSI_15</th>\n",
       "      <th>moving_average_60</th>\n",
       "      <th>moving_std_60</th>\n",
       "      <th>volume_moving_average_60</th>\n",
       "      <th>RSI_60</th>\n",
       "      <th>close_div_ma_60</th>\n",
       "      <th>high_low_div</th>\n",
       "      <th>open_close_div</th>\n",
       "      <th>open_close_sub</th>\n",
       "      <th>high_low_sub</th>\n",
       "      <th>hlco_ration</th>\n",
       "      <th>ht_trendline</th>\n",
       "      <th>MACD</th>\n",
       "      <th>MACD_signal</th>\n",
       "      <th>MACD_hist</th>\n",
       "      <th>adx</th>\n",
       "      <th>Upper_Shadow</th>\n",
       "      <th>Lower_Shadow</th>\n",
       "      <th>ln_Close</th>\n",
       "      <th>Weight</th>\n",
       "      <th>raw_return_causal</th>\n",
       "      <th>w_raw_return_causal</th>\n",
       "      <th>market_return_causal</th>\n",
       "      <th>raw_market_return_causal</th>\n",
       "      <th>market_return_causal_square</th>\n",
       "      <th>beta_causal</th>\n",
       "      <th>Close_diff1_rank</th>\n",
       "      <th>timestamp</th>\n",
       "      <th>Asset_ID</th>\n",
       "      <th>Count</th>\n",
       "      <th>Open</th>\n",
       "      <th>High</th>\n",
       "      <th>Low</th>\n",
       "      <th>Close</th>\n",
       "      <th>Volume</th>\n",
       "      <th>VWAP</th>\n",
       "      <th>Target</th>\n",
       "      <th>datetime</th>\n",
       "    </tr>\n",
       "  </thead>\n",
       "  <tbody>\n",
       "    <tr>\n",
       "      <th>0</th>\n",
       "      <td>158.306000</td>\n",
       "      <td>NaN</td>\n",
       "      <td>1.282200</td>\n",
       "      <td>NaN</td>\n",
       "      <td>39.576500</td>\n",
       "      <td>NaN</td>\n",
       "      <td>0.320550</td>\n",
       "      <td>NaN</td>\n",
       "      <td>60.0</td>\n",
       "      <td>1.017971</td>\n",
       "      <td>1.000838</td>\n",
       "      <td>1.990</td>\n",
       "      <td>42.3600</td>\n",
       "      <td>0.046978</td>\n",
       "      <td>NaN</td>\n",
       "      <td>NaN</td>\n",
       "      <td>NaN</td>\n",
       "      <td>NaN</td>\n",
       "      <td>NaN</td>\n",
       "      <td>22.920</td>\n",
       "      <td>17.4500</td>\n",
       "      <td>7.772580</td>\n",
       "      <td>2.397895</td>\n",
       "      <td>NaN</td>\n",
       "      <td>NaN</td>\n",
       "      <td>0.0</td>\n",
       "      <td>NaN</td>\n",
       "      <td>0.0</td>\n",
       "      <td>NaN</td>\n",
       "      <td>NaN</td>\n",
       "      <td>1514764860</td>\n",
       "      <td>2</td>\n",
       "      <td>40.0</td>\n",
       "      <td>2376.5800</td>\n",
       "      <td>2399.5000</td>\n",
       "      <td>2357.1400</td>\n",
       "      <td>2374.5900</td>\n",
       "      <td>19.233005</td>\n",
       "      <td>2373.116392</td>\n",
       "      <td>-0.004218</td>\n",
       "      <td>2018-01-01 00:01:00</td>\n",
       "    </tr>\n",
       "    <tr>\n",
       "      <th>1</th>\n",
       "      <td>0.568667</td>\n",
       "      <td>NaN</td>\n",
       "      <td>5.225333</td>\n",
       "      <td>NaN</td>\n",
       "      <td>0.142167</td>\n",
       "      <td>NaN</td>\n",
       "      <td>1.306333</td>\n",
       "      <td>NaN</td>\n",
       "      <td>60.0</td>\n",
       "      <td>1.000000</td>\n",
       "      <td>1.000000</td>\n",
       "      <td>0.000</td>\n",
       "      <td>0.0000</td>\n",
       "      <td>NaN</td>\n",
       "      <td>NaN</td>\n",
       "      <td>NaN</td>\n",
       "      <td>NaN</td>\n",
       "      <td>NaN</td>\n",
       "      <td>NaN</td>\n",
       "      <td>0.000</td>\n",
       "      <td>0.0000</td>\n",
       "      <td>2.143589</td>\n",
       "      <td>4.304065</td>\n",
       "      <td>NaN</td>\n",
       "      <td>NaN</td>\n",
       "      <td>0.0</td>\n",
       "      <td>NaN</td>\n",
       "      <td>0.0</td>\n",
       "      <td>NaN</td>\n",
       "      <td>NaN</td>\n",
       "      <td>1514764860</td>\n",
       "      <td>0</td>\n",
       "      <td>5.0</td>\n",
       "      <td>8.5300</td>\n",
       "      <td>8.5300</td>\n",
       "      <td>8.5300</td>\n",
       "      <td>8.5300</td>\n",
       "      <td>78.380000</td>\n",
       "      <td>8.530000</td>\n",
       "      <td>-0.014399</td>\n",
       "      <td>2018-01-01 00:01:00</td>\n",
       "    </tr>\n",
       "    <tr>\n",
       "      <th>2</th>\n",
       "      <td>923.345067</td>\n",
       "      <td>NaN</td>\n",
       "      <td>2.103337</td>\n",
       "      <td>NaN</td>\n",
       "      <td>230.836267</td>\n",
       "      <td>NaN</td>\n",
       "      <td>0.525834</td>\n",
       "      <td>NaN</td>\n",
       "      <td>60.0</td>\n",
       "      <td>1.025442</td>\n",
       "      <td>0.998918</td>\n",
       "      <td>-14.982</td>\n",
       "      <td>347.6900</td>\n",
       "      <td>-0.043090</td>\n",
       "      <td>NaN</td>\n",
       "      <td>NaN</td>\n",
       "      <td>NaN</td>\n",
       "      <td>NaN</td>\n",
       "      <td>NaN</td>\n",
       "      <td>163.624</td>\n",
       "      <td>169.0840</td>\n",
       "      <td>9.536053</td>\n",
       "      <td>6.779922</td>\n",
       "      <td>NaN</td>\n",
       "      <td>NaN</td>\n",
       "      <td>0.0</td>\n",
       "      <td>NaN</td>\n",
       "      <td>0.0</td>\n",
       "      <td>NaN</td>\n",
       "      <td>NaN</td>\n",
       "      <td>1514764860</td>\n",
       "      <td>1</td>\n",
       "      <td>229.0</td>\n",
       "      <td>13835.1940</td>\n",
       "      <td>14013.8000</td>\n",
       "      <td>13666.1100</td>\n",
       "      <td>13850.1760</td>\n",
       "      <td>31.550062</td>\n",
       "      <td>13827.062093</td>\n",
       "      <td>-0.014643</td>\n",
       "      <td>2018-01-01 00:01:00</td>\n",
       "    </tr>\n",
       "    <tr>\n",
       "      <th>3</th>\n",
       "      <td>0.510507</td>\n",
       "      <td>NaN</td>\n",
       "      <td>441.780891</td>\n",
       "      <td>NaN</td>\n",
       "      <td>0.127627</td>\n",
       "      <td>NaN</td>\n",
       "      <td>110.445223</td>\n",
       "      <td>NaN</td>\n",
       "      <td>60.0</td>\n",
       "      <td>1.000379</td>\n",
       "      <td>1.000261</td>\n",
       "      <td>0.002</td>\n",
       "      <td>0.0029</td>\n",
       "      <td>0.689655</td>\n",
       "      <td>NaN</td>\n",
       "      <td>NaN</td>\n",
       "      <td>NaN</td>\n",
       "      <td>NaN</td>\n",
       "      <td>NaN</td>\n",
       "      <td>0.000</td>\n",
       "      <td>0.0009</td>\n",
       "      <td>2.035699</td>\n",
       "      <td>1.386294</td>\n",
       "      <td>NaN</td>\n",
       "      <td>NaN</td>\n",
       "      <td>0.0</td>\n",
       "      <td>NaN</td>\n",
       "      <td>0.0</td>\n",
       "      <td>NaN</td>\n",
       "      <td>NaN</td>\n",
       "      <td>1514764860</td>\n",
       "      <td>5</td>\n",
       "      <td>32.0</td>\n",
       "      <td>7.6596</td>\n",
       "      <td>7.6596</td>\n",
       "      <td>7.6567</td>\n",
       "      <td>7.6576</td>\n",
       "      <td>6626.713370</td>\n",
       "      <td>7.657713</td>\n",
       "      <td>-0.013922</td>\n",
       "      <td>2018-01-01 00:01:00</td>\n",
       "    </tr>\n",
       "    <tr>\n",
       "      <th>4</th>\n",
       "      <td>1.725133</td>\n",
       "      <td>NaN</td>\n",
       "      <td>8.072487</td>\n",
       "      <td>NaN</td>\n",
       "      <td>0.431283</td>\n",
       "      <td>NaN</td>\n",
       "      <td>2.018122</td>\n",
       "      <td>NaN</td>\n",
       "      <td>60.0</td>\n",
       "      <td>1.001778</td>\n",
       "      <td>1.001662</td>\n",
       "      <td>0.043</td>\n",
       "      <td>0.0460</td>\n",
       "      <td>0.934783</td>\n",
       "      <td>NaN</td>\n",
       "      <td>NaN</td>\n",
       "      <td>NaN</td>\n",
       "      <td>NaN</td>\n",
       "      <td>NaN</td>\n",
       "      <td>0.000</td>\n",
       "      <td>0.0030</td>\n",
       "      <td>3.253355</td>\n",
       "      <td>2.079442</td>\n",
       "      <td>NaN</td>\n",
       "      <td>NaN</td>\n",
       "      <td>0.0</td>\n",
       "      <td>NaN</td>\n",
       "      <td>0.0</td>\n",
       "      <td>NaN</td>\n",
       "      <td>NaN</td>\n",
       "      <td>1514764860</td>\n",
       "      <td>7</td>\n",
       "      <td>5.0</td>\n",
       "      <td>25.9200</td>\n",
       "      <td>25.9200</td>\n",
       "      <td>25.8740</td>\n",
       "      <td>25.8770</td>\n",
       "      <td>121.087310</td>\n",
       "      <td>25.891363</td>\n",
       "      <td>-0.008264</td>\n",
       "      <td>2018-01-01 00:01:00</td>\n",
       "    </tr>\n",
       "  </tbody>\n",
       "</table>\n",
       "</div>"
      ],
      "text/plain": [
       "   moving_average_15  moving_std_15  volume_moving_average_15  RSI_15  \\\n",
       "0         158.306000            NaN                  1.282200     NaN   \n",
       "1           0.568667            NaN                  5.225333     NaN   \n",
       "2         923.345067            NaN                  2.103337     NaN   \n",
       "3           0.510507            NaN                441.780891     NaN   \n",
       "4           1.725133            NaN                  8.072487     NaN   \n",
       "\n",
       "   moving_average_60  moving_std_60  volume_moving_average_60  RSI_60  \\\n",
       "0          39.576500            NaN                  0.320550     NaN   \n",
       "1           0.142167            NaN                  1.306333     NaN   \n",
       "2         230.836267            NaN                  0.525834     NaN   \n",
       "3           0.127627            NaN                110.445223     NaN   \n",
       "4           0.431283            NaN                  2.018122     NaN   \n",
       "\n",
       "   close_div_ma_60  high_low_div  open_close_div  open_close_sub  \\\n",
       "0             60.0      1.017971        1.000838           1.990   \n",
       "1             60.0      1.000000        1.000000           0.000   \n",
       "2             60.0      1.025442        0.998918         -14.982   \n",
       "3             60.0      1.000379        1.000261           0.002   \n",
       "4             60.0      1.001778        1.001662           0.043   \n",
       "\n",
       "   high_low_sub  hlco_ration  ht_trendline  MACD  MACD_signal  MACD_hist  adx  \\\n",
       "0       42.3600     0.046978           NaN   NaN          NaN        NaN  NaN   \n",
       "1        0.0000          NaN           NaN   NaN          NaN        NaN  NaN   \n",
       "2      347.6900    -0.043090           NaN   NaN          NaN        NaN  NaN   \n",
       "3        0.0029     0.689655           NaN   NaN          NaN        NaN  NaN   \n",
       "4        0.0460     0.934783           NaN   NaN          NaN        NaN  NaN   \n",
       "\n",
       "   Upper_Shadow  Lower_Shadow  ln_Close    Weight  raw_return_causal  \\\n",
       "0        22.920       17.4500  7.772580  2.397895                NaN   \n",
       "1         0.000        0.0000  2.143589  4.304065                NaN   \n",
       "2       163.624      169.0840  9.536053  6.779922                NaN   \n",
       "3         0.000        0.0009  2.035699  1.386294                NaN   \n",
       "4         0.000        0.0030  3.253355  2.079442                NaN   \n",
       "\n",
       "   w_raw_return_causal  market_return_causal  raw_market_return_causal  \\\n",
       "0                  NaN                   0.0                       NaN   \n",
       "1                  NaN                   0.0                       NaN   \n",
       "2                  NaN                   0.0                       NaN   \n",
       "3                  NaN                   0.0                       NaN   \n",
       "4                  NaN                   0.0                       NaN   \n",
       "\n",
       "   market_return_causal_square  beta_causal  Close_diff1_rank   timestamp  \\\n",
       "0                          0.0          NaN               NaN  1514764860   \n",
       "1                          0.0          NaN               NaN  1514764860   \n",
       "2                          0.0          NaN               NaN  1514764860   \n",
       "3                          0.0          NaN               NaN  1514764860   \n",
       "4                          0.0          NaN               NaN  1514764860   \n",
       "\n",
       "   Asset_ID  Count        Open        High         Low       Close  \\\n",
       "0         2   40.0   2376.5800   2399.5000   2357.1400   2374.5900   \n",
       "1         0    5.0      8.5300      8.5300      8.5300      8.5300   \n",
       "2         1  229.0  13835.1940  14013.8000  13666.1100  13850.1760   \n",
       "3         5   32.0      7.6596      7.6596      7.6567      7.6576   \n",
       "4         7    5.0     25.9200     25.9200     25.8740     25.8770   \n",
       "\n",
       "        Volume          VWAP    Target            datetime  \n",
       "0    19.233005   2373.116392 -0.004218 2018-01-01 00:01:00  \n",
       "1    78.380000      8.530000 -0.014399 2018-01-01 00:01:00  \n",
       "2    31.550062  13827.062093 -0.014643 2018-01-01 00:01:00  \n",
       "3  6626.713370      7.657713 -0.013922 2018-01-01 00:01:00  \n",
       "4   121.087310     25.891363 -0.008264 2018-01-01 00:01:00  "
      ]
     },
     "execution_count": 44,
     "metadata": {},
     "output_type": "execute_result"
    }
   ],
   "source": [
    "import sys \n",
    "sys.path.append('../src')\n",
    "from feature_base import load_datasets\n",
    "import glob\n",
    "FEATURE_FOLDER = '../features'\n",
    "\n",
    "feats = glob.glob(FEATURE_FOLDER+'/**.pkl')\n",
    "data = load_datasets(feats)\n",
    "data.head()"
   ]
  },
  {
   "cell_type": "code",
   "execution_count": 45,
   "metadata": {},
   "outputs": [],
   "source": [
    "data = data.replace([np.inf, -np.inf], np.nan)\n",
    "\n",
    "for f in data.drop(['datetime', 'Target', 'timestamp', 'Asset_ID'], axis=1):\n",
    "    data[f] = data[f].fillna(data[f].mean())\n",
    "data = data.dropna(subset=['Target'])\n"
   ]
  },
  {
   "cell_type": "code",
   "execution_count": 29,
   "metadata": {},
   "outputs": [],
   "source": [
    "from scipy.stats import spearmanr\n",
    "import numpy as np\n",
    "\n",
    "def feature_exposures(df, prediction_name='Target'):\n",
    "    feature_names = [f for f in df.columns if f != prediction_name]\n",
    "    exposures = []\n",
    "    for f in feature_names:\n",
    "#         fe = spearmanr(df[prediction_name], df[f])[0]\n",
    "        fe = np.corrcoef(df[prediction_name], df[f])[0, 1]\n",
    "        exposures.append(fe)\n",
    "    return np.array(exposures)\n",
    "\n",
    "\n",
    "def max_feature_exposure(df):\n",
    "    return np.max(np.abs(feature_exposures(df)))\n",
    "\n",
    "\n",
    "def feature_exposure(df):\n",
    "    return np.sqrt(np.mean(np.square(feature_exposures(df))))"
   ]
  },
  {
   "cell_type": "code",
   "execution_count": 30,
   "metadata": {},
   "outputs": [
    {
     "data": {
      "text/plain": [
       "array([-0.00106176, -0.00123817,  0.00757207, -0.00386095, -0.00106259,\n",
       "       -0.00117148,  0.00637173, -0.00769778, -0.00564876,  0.00018985,\n",
       "        0.00430976,  0.00103865, -0.0013282 , -0.00297103, -0.00106431,\n",
       "       -0.000271  ,  0.00015064, -0.0013332 ,  0.00114961, -0.00145166,\n",
       "       -0.00087794, -0.00134106, -0.0001059 , -0.01977822, -0.01807691,\n",
       "        0.00776437,  0.00823423,  0.00224173,  0.00622911, -0.02225042,\n",
       "        0.00570645, -0.0010655 , -0.0010688 , -0.00106518, -0.00106677,\n",
       "        0.01199198, -0.0010662 ])"
      ]
     },
     "execution_count": 30,
     "metadata": {},
     "output_type": "execute_result"
    }
   ],
   "source": [
    "fes = feature_exposures(data.drop(['datetime', 'timestamp', 'Asset_ID'], axis=1))\n",
    "fes"
   ]
  },
  {
   "cell_type": "code",
   "execution_count": 31,
   "metadata": {},
   "outputs": [
    {
     "data": {
      "text/plain": [
       "0.022250422117425415"
      ]
     },
     "execution_count": 31,
     "metadata": {},
     "output_type": "execute_result"
    }
   ],
   "source": [
    "np.max(np.abs(fes))"
   ]
  },
  {
   "cell_type": "code",
   "execution_count": 32,
   "metadata": {},
   "outputs": [
    {
     "data": {
      "text/plain": [
       "<AxesSubplot:xlabel='features', ylabel='corr_to_oof'>"
      ]
     },
     "execution_count": 32,
     "metadata": {},
     "output_type": "execute_result"
    },
    {
     "data": {
      "image/png": "[encoded data removed]",
      "text/plain": [
       "<Figure size 1440x360 with 1 Axes>"
      ]
     },
     "metadata": {},
     "output_type": "display_data"
    }
   ],
   "source": [
    "import pandas as pd\n",
    "# visualize\n",
    "import matplotlib.pyplot as plt\n",
    "import matplotlib.style as style\n",
    "import seaborn as sns\n",
    "from matplotlib import pyplot\n",
    "from matplotlib.ticker import ScalarFormatter\n",
    "sns.set_context(\"talk\")\n",
    "style.use('fivethirtyeight')\n",
    "pd.options.display.max_columns = None\n",
    "\n",
    "fes_df = pd.DataFrame()\n",
    "fes_df['features'] = np.array(data.drop(['datetime', 'timestamp', 'Asset_ID', 'Target'], axis=1).columns)\n",
    "\n",
    "fes_df['corr_to_oof'] = fes\n",
    "fig, ax = plt.subplots(1, 1, figsize=(20, 5))\n",
    "sns.barplot(x='features', y='corr_to_oof', data=fes_df, ax=ax)"
   ]
  },
  {
   "cell_type": "code",
   "execution_count": 33,
   "metadata": {},
   "outputs": [
    {
     "data": {
      "text/html": [
       "<div>\n",
       "<style scoped>\n",
       "    .dataframe tbody tr th:only-of-type {\n",
       "        vertical-align: middle;\n",
       "    }\n",
       "\n",
       "    .dataframe tbody tr th {\n",
       "        vertical-align: top;\n",
       "    }\n",
       "\n",
       "    .dataframe thead th {\n",
       "        text-align: right;\n",
       "    }\n",
       "</style>\n",
       "<table border=\"1\" class=\"dataframe\">\n",
       "  <thead>\n",
       "    <tr style=\"text-align: right;\">\n",
       "      <th></th>\n",
       "      <th>features</th>\n",
       "      <th>corr_to_oof</th>\n",
       "    </tr>\n",
       "  </thead>\n",
       "  <tbody>\n",
       "    <tr>\n",
       "      <th>0</th>\n",
       "      <td>moving_average_15</td>\n",
       "      <td>-0.001062</td>\n",
       "    </tr>\n",
       "    <tr>\n",
       "      <th>1</th>\n",
       "      <td>moving_std_15</td>\n",
       "      <td>-0.001238</td>\n",
       "    </tr>\n",
       "    <tr>\n",
       "      <th>2</th>\n",
       "      <td>volume_moving_average_15</td>\n",
       "      <td>0.007572</td>\n",
       "    </tr>\n",
       "    <tr>\n",
       "      <th>3</th>\n",
       "      <td>RSI_15</td>\n",
       "      <td>-0.003861</td>\n",
       "    </tr>\n",
       "    <tr>\n",
       "      <th>4</th>\n",
       "      <td>moving_average_60</td>\n",
       "      <td>-0.001063</td>\n",
       "    </tr>\n",
       "    <tr>\n",
       "      <th>5</th>\n",
       "      <td>moving_std_60</td>\n",
       "      <td>-0.001171</td>\n",
       "    </tr>\n",
       "    <tr>\n",
       "      <th>6</th>\n",
       "      <td>volume_moving_average_60</td>\n",
       "      <td>0.006372</td>\n",
       "    </tr>\n",
       "    <tr>\n",
       "      <th>7</th>\n",
       "      <td>RSI_60</td>\n",
       "      <td>-0.007698</td>\n",
       "    </tr>\n",
       "    <tr>\n",
       "      <th>8</th>\n",
       "      <td>close_div_ma_60</td>\n",
       "      <td>-0.005649</td>\n",
       "    </tr>\n",
       "    <tr>\n",
       "      <th>9</th>\n",
       "      <td>high_low_div</td>\n",
       "      <td>0.000190</td>\n",
       "    </tr>\n",
       "    <tr>\n",
       "      <th>10</th>\n",
       "      <td>open_close_div</td>\n",
       "      <td>0.004310</td>\n",
       "    </tr>\n",
       "    <tr>\n",
       "      <th>11</th>\n",
       "      <td>open_close_sub</td>\n",
       "      <td>0.001039</td>\n",
       "    </tr>\n",
       "    <tr>\n",
       "      <th>12</th>\n",
       "      <td>high_low_sub</td>\n",
       "      <td>-0.001328</td>\n",
       "    </tr>\n",
       "    <tr>\n",
       "      <th>13</th>\n",
       "      <td>hlco_ration</td>\n",
       "      <td>-0.002971</td>\n",
       "    </tr>\n",
       "    <tr>\n",
       "      <th>14</th>\n",
       "      <td>ht_trendline</td>\n",
       "      <td>-0.001064</td>\n",
       "    </tr>\n",
       "    <tr>\n",
       "      <th>15</th>\n",
       "      <td>MACD</td>\n",
       "      <td>-0.000271</td>\n",
       "    </tr>\n",
       "    <tr>\n",
       "      <th>16</th>\n",
       "      <td>MACD_signal</td>\n",
       "      <td>0.000151</td>\n",
       "    </tr>\n",
       "    <tr>\n",
       "      <th>17</th>\n",
       "      <td>MACD_hist</td>\n",
       "      <td>-0.001333</td>\n",
       "    </tr>\n",
       "    <tr>\n",
       "      <th>18</th>\n",
       "      <td>adx</td>\n",
       "      <td>0.001150</td>\n",
       "    </tr>\n",
       "    <tr>\n",
       "      <th>19</th>\n",
       "      <td>Upper_Shadow</td>\n",
       "      <td>-0.001452</td>\n",
       "    </tr>\n",
       "    <tr>\n",
       "      <th>20</th>\n",
       "      <td>Lower_Shadow</td>\n",
       "      <td>-0.000878</td>\n",
       "    </tr>\n",
       "    <tr>\n",
       "      <th>21</th>\n",
       "      <td>ln_Close</td>\n",
       "      <td>-0.001341</td>\n",
       "    </tr>\n",
       "    <tr>\n",
       "      <th>22</th>\n",
       "      <td>Weight</td>\n",
       "      <td>-0.000106</td>\n",
       "    </tr>\n",
       "    <tr>\n",
       "      <th>23</th>\n",
       "      <td>raw_return_causal</td>\n",
       "      <td>-0.019778</td>\n",
       "    </tr>\n",
       "    <tr>\n",
       "      <th>24</th>\n",
       "      <td>w_raw_return_causal</td>\n",
       "      <td>-0.018077</td>\n",
       "    </tr>\n",
       "    <tr>\n",
       "      <th>25</th>\n",
       "      <td>market_return_causal</td>\n",
       "      <td>0.007764</td>\n",
       "    </tr>\n",
       "    <tr>\n",
       "      <th>26</th>\n",
       "      <td>raw_market_return_causal</td>\n",
       "      <td>0.008234</td>\n",
       "    </tr>\n",
       "    <tr>\n",
       "      <th>27</th>\n",
       "      <td>market_return_causal_square</td>\n",
       "      <td>0.002242</td>\n",
       "    </tr>\n",
       "    <tr>\n",
       "      <th>28</th>\n",
       "      <td>beta_causal</td>\n",
       "      <td>0.006229</td>\n",
       "    </tr>\n",
       "    <tr>\n",
       "      <th>29</th>\n",
       "      <td>Close_diff1_rank</td>\n",
       "      <td>-0.022250</td>\n",
       "    </tr>\n",
       "    <tr>\n",
       "      <th>30</th>\n",
       "      <td>Count</td>\n",
       "      <td>0.005706</td>\n",
       "    </tr>\n",
       "    <tr>\n",
       "      <th>31</th>\n",
       "      <td>Open</td>\n",
       "      <td>-0.001066</td>\n",
       "    </tr>\n",
       "    <tr>\n",
       "      <th>32</th>\n",
       "      <td>High</td>\n",
       "      <td>-0.001069</td>\n",
       "    </tr>\n",
       "    <tr>\n",
       "      <th>33</th>\n",
       "      <td>Low</td>\n",
       "      <td>-0.001065</td>\n",
       "    </tr>\n",
       "    <tr>\n",
       "      <th>34</th>\n",
       "      <td>Close</td>\n",
       "      <td>-0.001067</td>\n",
       "    </tr>\n",
       "    <tr>\n",
       "      <th>35</th>\n",
       "      <td>Volume</td>\n",
       "      <td>0.011992</td>\n",
       "    </tr>\n",
       "    <tr>\n",
       "      <th>36</th>\n",
       "      <td>VWAP</td>\n",
       "      <td>-0.001066</td>\n",
       "    </tr>\n",
       "  </tbody>\n",
       "</table>\n",
       "</div>"
      ],
      "text/plain": [
       "                       features  corr_to_oof\n",
       "0             moving_average_15    -0.001062\n",
       "1                 moving_std_15    -0.001238\n",
       "2      volume_moving_average_15     0.007572\n",
       "3                        RSI_15    -0.003861\n",
       "4             moving_average_60    -0.001063\n",
       "5                 moving_std_60    -0.001171\n",
       "6      volume_moving_average_60     0.006372\n",
       "7                        RSI_60    -0.007698\n",
       "8               close_div_ma_60    -0.005649\n",
       "9                  high_low_div     0.000190\n",
       "10               open_close_div     0.004310\n",
       "11               open_close_sub     0.001039\n",
       "12                 high_low_sub    -0.001328\n",
       "13                  hlco_ration    -0.002971\n",
       "14                 ht_trendline    -0.001064\n",
       "15                         MACD    -0.000271\n",
       "16                  MACD_signal     0.000151\n",
       "17                    MACD_hist    -0.001333\n",
       "18                          adx     0.001150\n",
       "19                 Upper_Shadow    -0.001452\n",
       "20                 Lower_Shadow    -0.000878\n",
       "21                     ln_Close    -0.001341\n",
       "22                       Weight    -0.000106\n",
       "23            raw_return_causal    -0.019778\n",
       "24          w_raw_return_causal    -0.018077\n",
       "25         market_return_causal     0.007764\n",
       "26     raw_market_return_causal     0.008234\n",
       "27  market_return_causal_square     0.002242\n",
       "28                  beta_causal     0.006229\n",
       "29             Close_diff1_rank    -0.022250\n",
       "30                        Count     0.005706\n",
       "31                         Open    -0.001066\n",
       "32                         High    -0.001069\n",
       "33                          Low    -0.001065\n",
       "34                        Close    -0.001067\n",
       "35                       Volume     0.011992\n",
       "36                         VWAP    -0.001066"
      ]
     },
     "execution_count": 33,
     "metadata": {},
     "output_type": "execute_result"
    }
   ],
   "source": [
    "fes_df"
   ]
  },
  {
   "cell_type": "code",
   "execution_count": 47,
   "metadata": {},
   "outputs": [
    {
     "name": "stderr",
     "output_type": "stream",
     "text": [
      "  0%|          | 0/37 [00:00<?, ?it/s]../src/utils.py:375: FutureWarning: `rcond` parameter will change to the default of machine precision times ``max(M, N)`` where M and N are the input matrix dimensions.\n",
      "To use the future default and silence this warning we advise to pass `rcond=None`, to keep using the old, explicitly pass `rcond=-1`.\n",
      "  correction = proportion * (exposures.dot(np.linalg.lstsq(exposures, scores)[0]))\n",
      "  3%|▎         | 1/37 [00:03<02:01,  3.37s/it]"
     ]
    },
    {
     "name": "stdout",
     "output_type": "stream",
     "text": [
      "moving_average_15: original corr to target=-0.001, corr to target after neut=-0.000, corr with old and neut feat=1.000\n"
     ]
    },
    {
     "name": "stderr",
     "output_type": "stream",
     "text": [
      "  5%|▌         | 2/37 [00:06<01:57,  3.35s/it]"
     ]
    },
    {
     "name": "stdout",
     "output_type": "stream",
     "text": [
      "moving_std_15: original corr to target=-0.001, corr to target after neut=-0.000, corr with old and neut feat=1.000\n"
     ]
    },
    {
     "name": "stderr",
     "output_type": "stream",
     "text": [
      "  8%|▊         | 3/37 [00:10<01:53,  3.35s/it]"
     ]
    },
    {
     "name": "stdout",
     "output_type": "stream",
     "text": [
      "volume_moving_average_15: original corr to target=0.008, corr to target after neut=0.003, corr with old and neut feat=1.000\n"
     ]
    },
    {
     "name": "stderr",
     "output_type": "stream",
     "text": [
      " 11%|█         | 4/37 [00:13<01:49,  3.33s/it]"
     ]
    },
    {
     "name": "stdout",
     "output_type": "stream",
     "text": [
      "RSI_15: original corr to target=-0.004, corr to target after neut=-0.002, corr with old and neut feat=1.000\n"
     ]
    },
    {
     "name": "stderr",
     "output_type": "stream",
     "text": [
      " 14%|█▎        | 5/37 [00:16<01:46,  3.32s/it]"
     ]
    },
    {
     "name": "stdout",
     "output_type": "stream",
     "text": [
      "moving_average_60: original corr to target=-0.001, corr to target after neut=-0.000, corr with old and neut feat=1.000\n"
     ]
    },
    {
     "name": "stderr",
     "output_type": "stream",
     "text": [
      " 16%|█▌        | 6/37 [00:20<01:43,  3.34s/it]"
     ]
    },
    {
     "name": "stdout",
     "output_type": "stream",
     "text": [
      "moving_std_60: original corr to target=-0.001, corr to target after neut=-0.000, corr with old and neut feat=1.000\n"
     ]
    },
    {
     "name": "stderr",
     "output_type": "stream",
     "text": [
      " 19%|█▉        | 7/37 [00:23<01:40,  3.36s/it]"
     ]
    },
    {
     "name": "stdout",
     "output_type": "stream",
     "text": [
      "volume_moving_average_60: original corr to target=0.006, corr to target after neut=0.003, corr with old and neut feat=1.000\n"
     ]
    },
    {
     "name": "stderr",
     "output_type": "stream",
     "text": [
      " 22%|██▏       | 8/37 [00:26<01:37,  3.35s/it]"
     ]
    },
    {
     "name": "stdout",
     "output_type": "stream",
     "text": [
      "RSI_60: original corr to target=-0.008, corr to target after neut=-0.003, corr with old and neut feat=1.000\n"
     ]
    },
    {
     "name": "stderr",
     "output_type": "stream",
     "text": [
      " 24%|██▍       | 9/37 [00:30<01:33,  3.35s/it]"
     ]
    },
    {
     "name": "stdout",
     "output_type": "stream",
     "text": [
      "close_div_ma_60: original corr to target=-0.006, corr to target after neut=-0.002, corr with old and neut feat=1.000\n"
     ]
    },
    {
     "name": "stderr",
     "output_type": "stream",
     "text": [
      " 27%|██▋       | 10/37 [00:33<01:30,  3.35s/it]"
     ]
    },
    {
     "name": "stdout",
     "output_type": "stream",
     "text": [
      "high_low_div: original corr to target=0.000, corr to target after neut=0.000, corr with old and neut feat=1.000\n"
     ]
    },
    {
     "name": "stderr",
     "output_type": "stream",
     "text": [
      " 30%|██▉       | 11/37 [00:36<01:27,  3.36s/it]"
     ]
    },
    {
     "name": "stdout",
     "output_type": "stream",
     "text": [
      "open_close_div: original corr to target=0.004, corr to target after neut=0.002, corr with old and neut feat=1.000\n"
     ]
    },
    {
     "name": "stderr",
     "output_type": "stream",
     "text": [
      " 32%|███▏      | 12/37 [00:40<01:24,  3.38s/it]"
     ]
    },
    {
     "name": "stdout",
     "output_type": "stream",
     "text": [
      "open_close_sub: original corr to target=0.001, corr to target after neut=0.000, corr with old and neut feat=1.000\n"
     ]
    },
    {
     "name": "stderr",
     "output_type": "stream",
     "text": [
      " 35%|███▌      | 13/37 [00:43<01:21,  3.38s/it]"
     ]
    },
    {
     "name": "stdout",
     "output_type": "stream",
     "text": [
      "high_low_sub: original corr to target=-0.001, corr to target after neut=-0.001, corr with old and neut feat=1.000\n"
     ]
    },
    {
     "name": "stderr",
     "output_type": "stream",
     "text": [
      " 38%|███▊      | 14/37 [00:46<01:17,  3.37s/it]"
     ]
    },
    {
     "name": "stdout",
     "output_type": "stream",
     "text": [
      "hlco_ration: original corr to target=-0.003, corr to target after neut=-0.001, corr with old and neut feat=1.000\n"
     ]
    },
    {
     "name": "stderr",
     "output_type": "stream",
     "text": [
      " 41%|████      | 15/37 [00:50<01:13,  3.35s/it]"
     ]
    },
    {
     "name": "stdout",
     "output_type": "stream",
     "text": [
      "ht_trendline: original corr to target=-0.001, corr to target after neut=-0.000, corr with old and neut feat=1.000\n"
     ]
    },
    {
     "name": "stderr",
     "output_type": "stream",
     "text": [
      " 43%|████▎     | 16/37 [00:53<01:10,  3.34s/it]"
     ]
    },
    {
     "name": "stdout",
     "output_type": "stream",
     "text": [
      "MACD: original corr to target=-0.000, corr to target after neut=-0.000, corr with old and neut feat=1.000\n"
     ]
    },
    {
     "name": "stderr",
     "output_type": "stream",
     "text": [
      " 46%|████▌     | 17/37 [00:56<01:06,  3.35s/it]"
     ]
    },
    {
     "name": "stdout",
     "output_type": "stream",
     "text": [
      "MACD_signal: original corr to target=0.000, corr to target after neut=0.000, corr with old and neut feat=1.000\n"
     ]
    },
    {
     "name": "stderr",
     "output_type": "stream",
     "text": [
      " 49%|████▊     | 18/37 [01:00<01:04,  3.37s/it]"
     ]
    },
    {
     "name": "stdout",
     "output_type": "stream",
     "text": [
      "MACD_hist: original corr to target=-0.001, corr to target after neut=-0.001, corr with old and neut feat=1.000\n"
     ]
    },
    {
     "name": "stderr",
     "output_type": "stream",
     "text": [
      " 51%|█████▏    | 19/37 [01:03<01:00,  3.35s/it]"
     ]
    },
    {
     "name": "stdout",
     "output_type": "stream",
     "text": [
      "adx: original corr to target=0.001, corr to target after neut=0.000, corr with old and neut feat=1.000\n"
     ]
    },
    {
     "name": "stderr",
     "output_type": "stream",
     "text": [
      " 54%|█████▍    | 20/37 [01:07<00:56,  3.34s/it]"
     ]
    },
    {
     "name": "stdout",
     "output_type": "stream",
     "text": [
      "Upper_Shadow: original corr to target=-0.001, corr to target after neut=-0.001, corr with old and neut feat=1.000\n"
     ]
    },
    {
     "name": "stderr",
     "output_type": "stream",
     "text": [
      " 57%|█████▋    | 21/37 [01:10<00:53,  3.35s/it]"
     ]
    },
    {
     "name": "stdout",
     "output_type": "stream",
     "text": [
      "Lower_Shadow: original corr to target=-0.001, corr to target after neut=-0.000, corr with old and neut feat=1.000\n"
     ]
    },
    {
     "name": "stderr",
     "output_type": "stream",
     "text": [
      " 59%|█████▉    | 22/37 [01:13<00:50,  3.36s/it]"
     ]
    },
    {
     "name": "stdout",
     "output_type": "stream",
     "text": [
      "ln_Close: original corr to target=-0.001, corr to target after neut=-0.001, corr with old and neut feat=1.000\n"
     ]
    },
    {
     "name": "stderr",
     "output_type": "stream",
     "text": [
      " 62%|██████▏   | 23/37 [01:17<00:46,  3.35s/it]"
     ]
    },
    {
     "name": "stdout",
     "output_type": "stream",
     "text": [
      "Weight: original corr to target=-0.000, corr to target after neut=-0.000, corr with old and neut feat=1.000\n"
     ]
    },
    {
     "name": "stderr",
     "output_type": "stream",
     "text": [
      " 65%|██████▍   | 24/37 [01:20<00:43,  3.35s/it]"
     ]
    },
    {
     "name": "stdout",
     "output_type": "stream",
     "text": [
      "raw_return_causal: original corr to target=-0.020, corr to target after neut=-0.008, corr with old and neut feat=1.000\n"
     ]
    },
    {
     "name": "stderr",
     "output_type": "stream",
     "text": [
      " 68%|██████▊   | 25/37 [01:23<00:40,  3.34s/it]"
     ]
    },
    {
     "name": "stdout",
     "output_type": "stream",
     "text": [
      "w_raw_return_causal: original corr to target=-0.018, corr to target after neut=-0.007, corr with old and neut feat=1.000\n"
     ]
    },
    {
     "name": "stderr",
     "output_type": "stream",
     "text": [
      " 70%|███████   | 26/37 [01:27<00:36,  3.33s/it]"
     ]
    },
    {
     "name": "stdout",
     "output_type": "stream",
     "text": [
      "market_return_causal: original corr to target=0.008, corr to target after neut=0.003, corr with old and neut feat=1.000\n"
     ]
    },
    {
     "name": "stderr",
     "output_type": "stream",
     "text": [
      " 73%|███████▎  | 27/37 [01:30<00:33,  3.33s/it]"
     ]
    },
    {
     "name": "stdout",
     "output_type": "stream",
     "text": [
      "raw_market_return_causal: original corr to target=0.008, corr to target after neut=0.003, corr with old and neut feat=1.000\n"
     ]
    },
    {
     "name": "stderr",
     "output_type": "stream",
     "text": [
      " 76%|███████▌  | 28/37 [01:33<00:30,  3.36s/it]"
     ]
    },
    {
     "name": "stdout",
     "output_type": "stream",
     "text": [
      "market_return_causal_square: original corr to target=0.002, corr to target after neut=0.001, corr with old and neut feat=1.000\n"
     ]
    },
    {
     "name": "stderr",
     "output_type": "stream",
     "text": [
      " 78%|███████▊  | 29/37 [01:37<00:26,  3.36s/it]"
     ]
    },
    {
     "name": "stdout",
     "output_type": "stream",
     "text": [
      "beta_causal: original corr to target=0.006, corr to target after neut=0.002, corr with old and neut feat=1.000\n"
     ]
    },
    {
     "name": "stderr",
     "output_type": "stream",
     "text": [
      " 81%|████████  | 30/37 [01:40<00:23,  3.37s/it]"
     ]
    },
    {
     "name": "stdout",
     "output_type": "stream",
     "text": [
      "Close_diff1_rank: original corr to target=-0.022, corr to target after neut=-0.009, corr with old and neut feat=1.000\n"
     ]
    },
    {
     "name": "stderr",
     "output_type": "stream",
     "text": [
      " 84%|████████▍ | 31/37 [01:43<00:20,  3.36s/it]"
     ]
    },
    {
     "name": "stdout",
     "output_type": "stream",
     "text": [
      "Count: original corr to target=0.006, corr to target after neut=0.002, corr with old and neut feat=1.000\n"
     ]
    },
    {
     "name": "stderr",
     "output_type": "stream",
     "text": [
      " 86%|████████▋ | 32/37 [01:47<00:16,  3.35s/it]"
     ]
    },
    {
     "name": "stdout",
     "output_type": "stream",
     "text": [
      "Open: original corr to target=-0.001, corr to target after neut=-0.000, corr with old and neut feat=1.000\n"
     ]
    },
    {
     "name": "stderr",
     "output_type": "stream",
     "text": [
      " 89%|████████▉ | 33/37 [01:50<00:13,  3.35s/it]"
     ]
    },
    {
     "name": "stdout",
     "output_type": "stream",
     "text": [
      "High: original corr to target=-0.001, corr to target after neut=-0.000, corr with old and neut feat=1.000\n"
     ]
    },
    {
     "name": "stderr",
     "output_type": "stream",
     "text": [
      " 92%|█████████▏| 34/37 [01:53<00:10,  3.34s/it]"
     ]
    },
    {
     "name": "stdout",
     "output_type": "stream",
     "text": [
      "Low: original corr to target=-0.001, corr to target after neut=-0.000, corr with old and neut feat=1.000\n"
     ]
    },
    {
     "name": "stderr",
     "output_type": "stream",
     "text": [
      " 95%|█████████▍| 35/37 [01:57<00:06,  3.37s/it]"
     ]
    },
    {
     "name": "stdout",
     "output_type": "stream",
     "text": [
      "Close: original corr to target=-0.001, corr to target after neut=-0.000, corr with old and neut feat=1.000\n"
     ]
    },
    {
     "name": "stderr",
     "output_type": "stream",
     "text": [
      " 97%|█████████▋| 36/37 [02:00<00:03,  3.39s/it]"
     ]
    },
    {
     "name": "stdout",
     "output_type": "stream",
     "text": [
      "Volume: original corr to target=0.012, corr to target after neut=0.005, corr with old and neut feat=1.000\n"
     ]
    },
    {
     "name": "stderr",
     "output_type": "stream",
     "text": [
      "100%|██████████| 37/37 [02:04<00:00,  3.36s/it]"
     ]
    },
    {
     "name": "stdout",
     "output_type": "stream",
     "text": [
      "VWAP: original corr to target=-0.001, corr to target after neut=-0.000, corr with old and neut feat=1.000\n"
     ]
    },
    {
     "name": "stderr",
     "output_type": "stream",
     "text": [
      "\n"
     ]
    }
   ],
   "source": [
    "import sys\n",
    "sys.path.append('../src')\n",
    "from utils import neutralize_series\n",
    "from tqdm import tqdm\n",
    "for f in tqdm(fes_df.features):\n",
    "    # neut\n",
    "    neut = neutralize_series(data[f], data['Target'], proportion=0.6)\n",
    "    \n",
    "    # verify\n",
    "    original_corr = np.corrcoef(data[f].values, data['Target'].values)[0, 1]\n",
    "    neut_corr = np.corrcoef(neut, data['Target'].values)[0, 1]\n",
    "    f_corr = np.corrcoef(data[f].values, neut)[0, 1]\n",
    "    print('{}: original corr to target={:.3f}, corr to target after neut={:.3f}, corr with old and neut feat={:.3f}'.format(f,\n",
    "        original_corr, neut_corr, f_corr))\n",
    "    \n",
    "    # assign\n",
    "    data[f] = neut.values"
   ]
  },
  {
   "cell_type": "code",
   "execution_count": 48,
   "metadata": {},
   "outputs": [
    {
     "data": {
      "text/plain": [
       "<AxesSubplot:xlabel='features', ylabel='corr_to_oof'>"
      ]
     },
     "execution_count": 48,
     "metadata": {},
     "output_type": "execute_result"
    },
    {
     "data": {
      "image/png": "[encoded data removed]",
      "text/plain": [
       "<Figure size 1440x360 with 1 Axes>"
      ]
     },
     "metadata": {},
     "output_type": "display_data"
    }
   ],
   "source": [
    "fes = feature_exposures(data.drop(['datetime', 'timestamp', 'Asset_ID'], axis=1))\n",
    "fes_df = pd.DataFrame()\n",
    "fes_df['features'] = np.array(data.drop(['datetime', 'timestamp', 'Asset_ID', 'Target'], axis=1).columns)\n",
    "\n",
    "fes_df['corr_to_oof'] = fes\n",
    "fig, ax = plt.subplots(1, 1, figsize=(20, 5))\n",
    "sns.barplot(x='features', y='corr_to_oof', data=fes_df, ax=ax)"
   ]
  }
 ],
 "metadata": {
  "interpreter": {
   "hash": "efb9160ded6f8104b03d06f95cfe4dec2ca7e24b5e9074d8f81a2ef13847cfc6"
  },
  "kernelspec": {
   "display_name": "Python 3.7.10 64-bit ('g_research_crypto': pyenv)",
   "language": "python",
   "name": "python3"
  },
  "language_info": {
   "codemirror_mode": {
    "name": "ipython",
    "version": 3
   },
   "file_extension": ".py",
   "mimetype": "text/x-python",
   "name": "python",
   "nbconvert_exporter": "python",
   "pygments_lexer": "ipython3",
   "version": "3.7.10"
  },
  "orig_nbformat": 4
 },
 "nbformat": 4,
 "nbformat_minor": 2
}
