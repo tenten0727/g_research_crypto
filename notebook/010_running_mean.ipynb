{
 "cells": [
  {
   "cell_type": "code",
   "execution_count": 1,
   "metadata": {
    "execution": {
     "iopub.execute_input": "2022-01-13T10:47:42.909626Z",
     "iopub.status.busy": "2022-01-13T10:47:42.908160Z",
     "iopub.status.idle": "2022-01-13T10:47:45.774409Z",
     "shell.execute_reply": "2022-01-13T10:47:45.775412Z"
    }
   },
   "outputs": [
    {
     "data": {
      "text/html": [
       "<div>\n",
       "<style scoped>\n",
       "    .dataframe tbody tr th:only-of-type {\n",
       "        vertical-align: middle;\n",
       "    }\n",
       "\n",
       "    .dataframe tbody tr th {\n",
       "        vertical-align: top;\n",
       "    }\n",
       "\n",
       "    .dataframe thead th {\n",
       "        text-align: right;\n",
       "    }\n",
       "</style>\n",
       "<table border=\"1\" class=\"dataframe\">\n",
       "  <thead>\n",
       "    <tr style=\"text-align: right;\">\n",
       "      <th></th>\n",
       "      <th>timestamp</th>\n",
       "      <th>Asset_ID</th>\n",
       "      <th>Count</th>\n",
       "      <th>Open</th>\n",
       "      <th>High</th>\n",
       "      <th>Low</th>\n",
       "      <th>Close</th>\n",
       "      <th>Volume</th>\n",
       "      <th>VWAP</th>\n",
       "      <th>Target</th>\n",
       "    </tr>\n",
       "  </thead>\n",
       "  <tbody>\n",
       "    <tr>\n",
       "      <th>0</th>\n",
       "      <td>1514764860</td>\n",
       "      <td>2</td>\n",
       "      <td>40.0</td>\n",
       "      <td>2376.5800</td>\n",
       "      <td>2399.5000</td>\n",
       "      <td>2357.1400</td>\n",
       "      <td>2374.5900</td>\n",
       "      <td>19.233005</td>\n",
       "      <td>2373.116392</td>\n",
       "      <td>-0.004218</td>\n",
       "    </tr>\n",
       "    <tr>\n",
       "      <th>1</th>\n",
       "      <td>1514764860</td>\n",
       "      <td>0</td>\n",
       "      <td>5.0</td>\n",
       "      <td>8.5300</td>\n",
       "      <td>8.5300</td>\n",
       "      <td>8.5300</td>\n",
       "      <td>8.5300</td>\n",
       "      <td>78.380000</td>\n",
       "      <td>8.530000</td>\n",
       "      <td>-0.014399</td>\n",
       "    </tr>\n",
       "    <tr>\n",
       "      <th>2</th>\n",
       "      <td>1514764860</td>\n",
       "      <td>1</td>\n",
       "      <td>229.0</td>\n",
       "      <td>13835.1940</td>\n",
       "      <td>14013.8000</td>\n",
       "      <td>13666.1100</td>\n",
       "      <td>13850.1760</td>\n",
       "      <td>31.550062</td>\n",
       "      <td>13827.062093</td>\n",
       "      <td>-0.014643</td>\n",
       "    </tr>\n",
       "    <tr>\n",
       "      <th>3</th>\n",
       "      <td>1514764860</td>\n",
       "      <td>5</td>\n",
       "      <td>32.0</td>\n",
       "      <td>7.6596</td>\n",
       "      <td>7.6596</td>\n",
       "      <td>7.6567</td>\n",
       "      <td>7.6576</td>\n",
       "      <td>6626.713370</td>\n",
       "      <td>7.657713</td>\n",
       "      <td>-0.013922</td>\n",
       "    </tr>\n",
       "    <tr>\n",
       "      <th>4</th>\n",
       "      <td>1514764860</td>\n",
       "      <td>7</td>\n",
       "      <td>5.0</td>\n",
       "      <td>25.9200</td>\n",
       "      <td>25.9200</td>\n",
       "      <td>25.8740</td>\n",
       "      <td>25.8770</td>\n",
       "      <td>121.087310</td>\n",
       "      <td>25.891363</td>\n",
       "      <td>-0.008264</td>\n",
       "    </tr>\n",
       "  </tbody>\n",
       "</table>\n",
       "</div>"
      ],
      "text/plain": [
       "    timestamp  Asset_ID  Count        Open        High         Low  \\\n",
       "0  1514764860         2   40.0   2376.5800   2399.5000   2357.1400   \n",
       "1  1514764860         0    5.0      8.5300      8.5300      8.5300   \n",
       "2  1514764860         1  229.0  13835.1940  14013.8000  13666.1100   \n",
       "3  1514764860         5   32.0      7.6596      7.6596      7.6567   \n",
       "4  1514764860         7    5.0     25.9200     25.9200     25.8740   \n",
       "\n",
       "        Close       Volume          VWAP    Target  \n",
       "0   2374.5900    19.233005   2373.116392 -0.004218  \n",
       "1      8.5300    78.380000      8.530000 -0.014399  \n",
       "2  13850.1760    31.550062  13827.062093 -0.014643  \n",
       "3      7.6576  6626.713370      7.657713 -0.013922  \n",
       "4     25.8770   121.087310     25.891363 -0.008264  "
      ]
     },
     "execution_count": 1,
     "metadata": {},
     "output_type": "execute_result"
    }
   ],
   "source": [
    "import pandas as pd \n",
    "import talib\n",
    "\n",
    "data_path = '../input/'\n",
    "train = pd.read_pickle(data_path+'/train.pkl')\n",
    "train.head()"
   ]
  },
  {
   "cell_type": "code",
   "execution_count": 2,
   "metadata": {
    "execution": {
     "iopub.execute_input": "2022-01-13T10:47:45.783102Z",
     "iopub.status.busy": "2022-01-13T10:47:45.781877Z",
     "iopub.status.idle": "2022-01-13T10:47:50.869790Z",
     "shell.execute_reply": "2022-01-13T10:47:50.869133Z"
    }
   },
   "outputs": [
    {
     "data": {
      "text/plain": [
       "0                   NaN\n",
       "1                   NaN\n",
       "2                   NaN\n",
       "3                   NaN\n",
       "4                   NaN\n",
       "               ...     \n",
       "24236801     156.809571\n",
       "24236802    2426.988343\n",
       "24236803       0.091123\n",
       "24236804       0.281477\n",
       "24236805     231.791100\n",
       "Name: Close, Length: 24236806, dtype: float64"
      ]
     },
     "execution_count": 2,
     "metadata": {},
     "output_type": "execute_result"
    }
   ],
   "source": [
    "train.groupby('Asset_ID').Close.transform(lambda x: x.rolling(window=5).mean())"
   ]
  },
  {
   "cell_type": "code",
   "execution_count": 3,
   "metadata": {
    "execution": {
     "iopub.execute_input": "2022-01-13T10:47:50.877094Z",
     "iopub.status.busy": "2022-01-13T10:47:50.876509Z",
     "iopub.status.idle": "2022-01-13T10:47:55.514618Z",
     "shell.execute_reply": "2022-01-13T10:47:55.515082Z"
    }
   },
   "outputs": [
    {
     "data": {
      "text/plain": [
       "0                   NaN\n",
       "1                   NaN\n",
       "2                   NaN\n",
       "3                   NaN\n",
       "4                   NaN\n",
       "               ...     \n",
       "24236801     156.809571\n",
       "24236802    2426.988343\n",
       "24236803       0.091124\n",
       "24236804       0.281477\n",
       "24236805     231.791100\n",
       "Name: Close, Length: 24236806, dtype: float64"
      ]
     },
     "execution_count": 3,
     "metadata": {},
     "output_type": "execute_result"
    }
   ],
   "source": [
    "train.groupby('Asset_ID').Close.transform(lambda x: talib.SMA(x, timeperiod=5))"
   ]
  },
  {
   "cell_type": "code",
   "execution_count": 4,
   "metadata": {
    "execution": {
     "iopub.execute_input": "2022-01-13T10:47:55.522086Z",
     "iopub.status.busy": "2022-01-13T10:47:55.521280Z",
     "iopub.status.idle": "2022-01-13T10:47:57.958706Z",
     "shell.execute_reply": "2022-01-13T10:47:57.957391Z"
    }
   },
   "outputs": [],
   "source": [
    "import sys\n",
    "sys.path.append('../src')\n",
    "from utils import RunningMean\n"
   ]
  },
  {
   "cell_type": "code",
   "execution_count": 5,
   "metadata": {
    "execution": {
     "iopub.execute_input": "2022-01-13T10:47:57.967888Z",
     "iopub.status.busy": "2022-01-13T10:47:57.966618Z",
     "iopub.status.idle": "2022-01-13T10:48:01.607277Z",
     "shell.execute_reply": "2022-01-13T10:48:01.605886Z"
    }
   },
   "outputs": [
    {
     "name": "stdout",
     "output_type": "stream",
     "text": [
      "[[2374.59         19.23300519]\n",
      " [2372.28666667   24.05025946]\n",
      " [2372.06333333   42.67643847]\n",
      " ...\n",
      " [ 538.775        49.33352893]\n",
      " [ 542.5125      183.53930349]\n",
      " [ 541.045       582.83068788]]\n",
      "[[   8.53         78.38      ]\n",
      " [   8.5145       71.39      ]\n",
      " [   8.4848     1546.82      ]\n",
      " ...\n",
      " [ 361.858       820.90973643]\n",
      " [ 364.1145     1268.05516974]\n",
      " [ 363.7575     1000.67694636]]\n",
      "[[1.38501760e+04 3.15500615e+01]\n",
      " [1.38281020e+04 3.10464321e+01]\n",
      " [1.38013140e+04 5.50618201e+01]\n",
      " ...\n",
      " [4.28270200e+04 6.56777342e+01]\n",
      " [4.30172771e+04 1.38335477e+02]\n",
      " [4.30025050e+04 1.28206820e+02]]\n",
      "[[7.65760000e+00 6.62671337e+03]\n",
      " [7.65670000e+00 3.27747549e+03]\n",
      " [7.65120000e+00 5.62355758e+03]\n",
      " ...\n",
      " [4.17573333e+00 1.82688028e+04]\n",
      " [4.19873333e+00 7.79936035e+04]\n",
      " [4.19574000e+00 4.10643936e+04]]\n",
      "[[2.58770000e+01 1.21087310e+02]\n",
      " [2.58970000e+01 1.46801900e+00]\n",
      " [2.64695000e+01 7.61639216e+01]\n",
      " ...\n",
      " [4.88267667e+01 5.74742717e+02]\n",
      " [4.90782750e+01 3.26924016e+03]\n",
      " [4.90681500e+01 1.43435052e+03]]\n",
      "[[ 738.5075      335.98785619]\n",
      " [ 738.26        232.79314112]\n",
      " [ 737.5025      174.13803124]\n",
      " ...\n",
      " [2957.39857143  807.93536195]\n",
      " [2977.19       1723.47397939]\n",
      " [2972.60333333 1204.82571017]]\n",
      "[[ 225.20666667  411.89664234]\n",
      " [ 224.85666667 3640.5027059 ]\n",
      " [ 226.          328.35028572]\n",
      " ...\n",
      " [ 156.314      1249.62003537]\n",
      " [ 157.225      2053.65752904]\n",
      " [ 156.94385714 4663.72542013]]\n",
      "[[329.46         6.63571014]\n",
      " [329.45         0.34941958]\n",
      " [329.19         1.18955308]\n",
      " ...\n",
      " [231.1525     123.4183    ]\n",
      " [232.258      115.24236543]\n",
      " [232.275      103.5123    ]]\n",
      "[[3.67500000e-02 8.34591077e+04]\n",
      " [3.69490000e-02 2.22200006e+03]\n",
      " [3.55970000e-02 1.06137661e+05]\n",
      " ...\n",
      " [9.08590000e-02 3.69910232e+06]\n",
      " [9.13256000e-02 3.24150709e+06]\n",
      " [9.13487500e-02 2.19373156e+06]]\n",
      "[[3.60000000e-01 3.77936293e+03]\n",
      " [4.10000000e-01 8.00000000e+02]\n",
      " [4.70000000e-01 4.00000000e+02]\n",
      " ...\n",
      " [2.80435333e-01 9.23223539e+04]\n",
      " [2.82077500e-01 6.81270710e+05]\n",
      " [2.82050571e-01 1.82850814e+05]]\n",
      "[[2.60000000e-01 3.22308322e+04]\n",
      " [2.60000000e-01 1.87112286e+04]\n",
      " [2.58700000e-01 6.83140570e+03]\n",
      " ...\n",
      " [2.06490067e+00 3.92212249e+05]\n",
      " [2.08033667e+00 7.21884159e+05]\n",
      " [2.07926850e+00 1.65056022e+05]]\n",
      "[[2.26300000e+00 1.09523610e+03]\n",
      " [2.26310000e+00 3.83066900e+02]\n",
      " [2.26340000e+00 1.70307900e+02]\n",
      " ...\n",
      " [1.27500000e+00 8.68866240e+03]\n",
      " [1.28455000e+00 1.13142341e+04]\n",
      " [1.28255000e+00 8.54240670e+03]]\n",
      "[[1.18200000e+03 4.54920800e-02]\n",
      " [1.49600000e+03 1.95000000e-01]\n",
      " [1.49600000e+03 7.00000000e-02]\n",
      " ...\n",
      " [2.42111200e+03 8.95394300e+00]\n",
      " [2.43565225e+03 6.10746600e+00]\n",
      " [2.43290747e+03 3.97546000e+00]]\n",
      "[[2.77500000e-03 1.92109000e+05]\n",
      " [2.77500000e-03 7.03990000e+04]\n",
      " [2.77200000e-03 2.17483000e+05]\n",
      " ...\n",
      " [2.06797000e-01 4.20172523e+05]\n",
      " [2.08621250e-01 2.58398051e+06]\n",
      " [2.08294250e-01 1.14094599e+06]]\n"
     ]
    }
   ],
   "source": [
    "for i in train.Asset_ID.unique():\n",
    "    a = RunningMean(WIN_SIZE=5)\n",
    "    a.push(train.loc[train.Asset_ID==i, ['Close', 'Volume']].values)\n",
    "    print(a.get_mean())\n"
   ]
  },
  {
   "cell_type": "code",
   "execution_count": 6,
   "metadata": {
    "execution": {
     "iopub.execute_input": "2022-01-13T10:48:01.623713Z",
     "iopub.status.busy": "2022-01-13T10:48:01.622304Z",
     "iopub.status.idle": "2022-01-13T10:48:01.625180Z",
     "shell.execute_reply": "2022-01-13T10:48:01.626171Z"
    }
   },
   "outputs": [],
   "source": [
    "import numpy as np\n",
    "\n",
    "def _rsiFunc(prices, n=14):\n",
    "    deltas = np.diff(prices)\n",
    "    seed = deltas[:n+1]\n",
    "    up = seed[seed>=0].sum()/n\n",
    "    down = -seed[seed<0].sum()/n\n",
    "    rs = up/down\n",
    "    rsi = np.zeros_like(prices)\n",
    "    rsi[:n] = 100. - 100./(1.+rs)\n",
    "\n",
    "    for i in range(n, len(prices)):\n",
    "        delta = deltas[i-1] # cause the diff is 1 shorter\n",
    "\n",
    "        if delta>0:\n",
    "            upval = delta\n",
    "            downval = 0.\n",
    "        else:\n",
    "            upval = 0.\n",
    "            downval = -delta\n",
    "\n",
    "        up = (up*(n-1) + upval)/n\n",
    "        down = (down*(n-1) + downval)/n\n",
    "\n",
    "        rs = up/down\n",
    "        rsi[i] = 100. - 100./(1.+rs)\n",
    "\n",
    "    return rsi\n",
    "\n"
   ]
  },
  {
   "cell_type": "code",
   "execution_count": 7,
   "metadata": {
    "execution": {
     "iopub.execute_input": "2022-01-13T10:48:01.633909Z",
     "iopub.status.busy": "2022-01-13T10:48:01.632572Z",
     "iopub.status.idle": "2022-01-13T10:48:45.014369Z",
     "shell.execute_reply": "2022-01-13T10:48:45.014859Z"
    }
   },
   "outputs": [
    {
     "data": {
      "text/plain": [
       "0            0.000000\n",
       "1            9.675481\n",
       "2            0.000000\n",
       "3            0.000000\n",
       "4           86.370262\n",
       "              ...    \n",
       "24236801    49.859647\n",
       "24236802    57.611476\n",
       "24236803    58.297421\n",
       "24236804    55.637040\n",
       "24236805    55.028428\n",
       "Name: Close, Length: 24236806, dtype: float64"
      ]
     },
     "execution_count": 7,
     "metadata": {},
     "output_type": "execute_result"
    }
   ],
   "source": [
    "train.groupby('Asset_ID').Close.transform(lambda x: _rsiFunc(x.values, 5))"
   ]
  },
  {
   "cell_type": "code",
   "execution_count": 8,
   "metadata": {
    "execution": {
     "iopub.execute_input": "2022-01-13T10:48:45.019307Z",
     "iopub.status.busy": "2022-01-13T10:48:45.018727Z",
     "iopub.status.idle": "2022-01-13T10:48:45.021903Z",
     "shell.execute_reply": "2022-01-13T10:48:45.021323Z"
    }
   },
   "outputs": [],
   "source": [
    "import talib"
   ]
  },
  {
   "cell_type": "code",
   "execution_count": 9,
   "metadata": {
    "execution": {
     "iopub.execute_input": "2022-01-13T10:48:45.029334Z",
     "iopub.status.busy": "2022-01-13T10:48:45.028574Z",
     "iopub.status.idle": "2022-01-13T10:48:49.794978Z",
     "shell.execute_reply": "2022-01-13T10:48:49.795419Z"
    }
   },
   "outputs": [
    {
     "data": {
      "text/plain": [
       "0                 NaN\n",
       "1                 NaN\n",
       "2                 NaN\n",
       "3                 NaN\n",
       "4                 NaN\n",
       "              ...    \n",
       "24236801    49.859647\n",
       "24236802    57.611476\n",
       "24236803    58.297421\n",
       "24236804    55.637040\n",
       "24236805    55.028428\n",
       "Name: Close, Length: 24236806, dtype: float64"
      ]
     },
     "execution_count": 9,
     "metadata": {},
     "output_type": "execute_result"
    }
   ],
   "source": [
    "train.groupby('Asset_ID').Close.transform(lambda x: talib.RSI(x, 5))"
   ]
  }
 ],
 "metadata": {
  "interpreter": {
   "hash": "efb9160ded6f8104b03d06f95cfe4dec2ca7e24b5e9074d8f81a2ef13847cfc6"
  },
  "kernelspec": {
   "display_name": "Python 3.7.10 64-bit ('g_research_crypto': pyenv)",
   "language": "python",
   "name": "python3"
  },
  "language_info": {
   "codemirror_mode": {
    "name": "ipython",
    "version": 3
   },
   "file_extension": ".py",
   "mimetype": "text/x-python",
   "name": "python",
   "nbconvert_exporter": "python",
   "pygments_lexer": "ipython3",
   "version": "3.7.10"
  }
 },
 "nbformat": 4,
 "nbformat_minor": 2
}
